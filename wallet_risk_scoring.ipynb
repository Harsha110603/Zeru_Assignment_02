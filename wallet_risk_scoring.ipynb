{
 "cells": [
  {
   "cell_type": "markdown",
   "id": "2d2d332e",
   "metadata": {},
   "source": [
    "## Import Libraries"
   ]
  },
  {
   "cell_type": "code",
   "execution_count": 17,
   "id": "ae6e318d",
   "metadata": {},
   "outputs": [],
   "source": [
    "import requests\n",
    "import pandas as pd\n",
    "import numpy as np\n",
    "import time\n",
    "\n"
   ]
  },
  {
   "cell_type": "markdown",
   "id": "aaece660",
   "metadata": {},
   "source": [
    "## Load Wallet Addresses and API Configuration"
   ]
  },
  {
   "cell_type": "code",
   "execution_count": 30,
   "id": "a20823d6",
   "metadata": {},
   "outputs": [],
   "source": [
    "API_KEY = \"YOUR_API_KEY_HERE\"  # Replace with your actual key when running\n",
    "CHAIN_ID = \"1\"  # Ethereum Mainnet\n",
    "\n"
   ]
  },
  {
   "cell_type": "code",
   "execution_count": 19,
   "id": "e94d0a0a",
   "metadata": {},
   "outputs": [],
   "source": [
    "# Load wallets from CSV\n",
    "wallet_df = pd.read_csv(\"Wallet id - Sheet1.csv\")\n",
    "wallets = wallet_df[\"wallet_id\"].tolist()\n"
   ]
  },
  {
   "cell_type": "markdown",
   "id": "069cc414",
   "metadata": {},
   "source": [
    "## Define Compound V2 Contracts for Filtering"
   ]
  },
  {
   "cell_type": "code",
   "execution_count": 20,
   "id": "f8d89cac",
   "metadata": {},
   "outputs": [],
   "source": [
    "compound_contracts = [\n",
    "    \"0x3d9819210a31b4961b30ef54be2aed79b9c9cd3b\",  # Comptroller\n",
    "    \"0x5d3a536e4d6dbd6114cc1ead35777bab948e3643\",  # cDAI\n",
    "    \"0x39aa39c021dfbae8fac545936693ac917d5e7563\",  # cUSDC\n",
    "    \"0x6c8c6b02e7b2be14d4fa6022dfd6d9d9e6e0b35c\",  # cBAT\n",
    "    \"0x158079Ee67Fce2f58472A96584A73C7Ab9AC95c1\",  # cREP\n",
    "    \"0x6d7f0754ffeb405d23c51ce938289d4835be3b14\",  # cWBTC\n",
    "    \"0x35a18000230da775cac24873d00ff85bccded550\",  # cUNI\n",
    "    \"0x4ddc2d193948926d02f9b1fe9e1daa0718270ed5\",  # cETH\n",
    "    \"0x95b4ef2869ebd94beb4eee400a99824bf5dc325b\",  # cLINK\n",
    "    \"0xface851a4921ce59e912d19329929ce6da6eb0c7\",  # cCOMP\n",
    "    \"0x41b5844f4680dbc3820f7ba2e826cb990b479e75\",  # cSUSHI\n",
    "    \"0x4a92e71227d294f041bd82dd8f78591b75140d63\"   # cZRX\n",
    "]\n"
   ]
  },
  {
   "cell_type": "markdown",
   "id": "e23cad70",
   "metadata": {},
   "source": [
    "## Fetch Compound Transaction History for a Wallet"
   ]
  },
  {
   "cell_type": "code",
   "execution_count": 21,
   "id": "280860c0",
   "metadata": {},
   "outputs": [],
   "source": [
    "def get_compound_activity(wallet):\n",
    "    \"\"\"\n",
    "    Fetch Compound Protocol activity for a given wallet using Covalent.\n",
    "    \"\"\"\n",
    "    contracts = \",\".join(compound_contracts)\n",
    "    url = f\"https://api.covalenthq.com/v1/{CHAIN_ID}/address/{wallet}/transactions_v2/\"\n",
    "\n",
    "    params = {\n",
    "        \"contract-address\": contracts,\n",
    "        \"key\": API_KEY\n",
    "    }\n",
    "\n",
    "    try:\n",
    "        resp = requests.get(url, params=params)\n",
    "        if resp.status_code != 200:\n",
    "            print(f\"❌ Error for {wallet}: {resp.status_code}\")\n",
    "            return None\n",
    "        data = resp.json()[\"data\"][\"items\"]\n",
    "        return data\n",
    "    except Exception as e:\n",
    "        print(f\"⚠️ Exception for {wallet}: {e}\")\n",
    "        return None\n"
   ]
  },
  {
   "cell_type": "markdown",
   "id": "ca090cb7",
   "metadata": {},
   "source": [
    "## Extract Risk-Related Features from Transaction Data"
   ]
  },
  {
   "cell_type": "code",
   "execution_count": 22,
   "id": "2bac17cb",
   "metadata": {},
   "outputs": [],
   "source": [
    "def extract_features(wallet_data):\n",
    "    \"\"\"\n",
    "    Extract relevant financial risk features from wallet's transaction history.\n",
    "    Safely handles missing or malformed log_events.\n",
    "    \"\"\"\n",
    "    if not wallet_data:\n",
    "        return {\n",
    "            \"tx_count\": 0,\n",
    "            \"borrow_tx\": 0,\n",
    "            \"repay_tx\": 0,\n",
    "            \"liquidations\": 0,\n",
    "            \"unique_tokens\": 0,\n",
    "            \"net_activity\": 0\n",
    "        }\n",
    "\n",
    "    tx_count = len(wallet_data)\n",
    "    borrow_tx = 0\n",
    "    repay_tx = 0\n",
    "    liquidations = 0\n",
    "    unique_tokens = set()\n",
    "\n",
    "    for tx in wallet_data:\n",
    "        # Skip if no logs\n",
    "        log_events = tx.get(\"log_events\", [])\n",
    "        for log in log_events:\n",
    "            decoded = log.get(\"decoded\")\n",
    "            if not decoded:\n",
    "                continue\n",
    "            method = decoded.get(\"name\", \"\").lower()\n",
    "            if \"borrow\" in method:\n",
    "                borrow_tx += 1\n",
    "            elif \"repay\" in method:\n",
    "                repay_tx += 1\n",
    "            elif \"liquidate\" in method:\n",
    "                liquidations += 1\n",
    "\n",
    "        # Track tokens interacted with (if any)\n",
    "        for transfer in tx.get(\"transfers\", []):\n",
    "            contract_address = transfer.get(\"contract_address\")\n",
    "            if contract_address:\n",
    "                unique_tokens.add(contract_address.lower())\n",
    "\n",
    "    net_activity = borrow_tx - repay_tx - liquidations\n",
    "\n",
    "    return {\n",
    "        \"tx_count\": tx_count,\n",
    "        \"borrow_tx\": borrow_tx,\n",
    "        \"repay_tx\": repay_tx,\n",
    "        \"liquidations\": liquidations,\n",
    "        \"unique_tokens\": len(unique_tokens),\n",
    "        \"net_activity\": net_activity\n",
    "    }\n"
   ]
  },
  {
   "cell_type": "markdown",
   "id": "1c86e4fd",
   "metadata": {},
   "source": [
    "## Loop Through Wallets and Collect Features"
   ]
  },
  {
   "cell_type": "code",
   "execution_count": 23,
   "id": "f9240b7f",
   "metadata": {},
   "outputs": [
    {
     "name": "stdout",
     "output_type": "stream",
     "text": [
      "Processing 0x0039f22efb07a647557c7c5d17854cfd6d489ef3\n",
      "Processing 0x06b51c6882b27cb05e712185531c1f74996dd988\n",
      "Processing 0x0795732aacc448030ef374374eaae57d2965c16c\n",
      "Processing 0x0aaa79f1a86bc8136cd0d1ca0d51964f4e3766f9\n",
      "Processing 0x0fe383e5abc200055a7f391f94a5f5d1f844b9ae\n",
      "Processing 0x104ae61d8d487ad689969a17807ddc338b445416\n",
      "Processing 0x111c7208a7e2af345d36b6d4aace8740d61a3078\n",
      "Processing 0x124853fecb522c57d9bd5c21231058696ca6d596\n",
      "Processing 0x13b1c8b0e696aff8b4fee742119b549b605f3cbc\n",
      "Processing 0x1656f1886c5ab634ac19568cd571bc72f385fdf7\n",
      "Processing 0x1724e16cb8d0e2aa4d08035bc6b5c56b680a3b22\n",
      "Processing 0x19df3e87f73c4aaf4809295561465b993e102668\n",
      "Processing 0x1ab2ccad4fc97c9968ea87d4435326715be32872\n",
      "Processing 0x1c1b30ca93ef57452d53885d97a74f61daf2bf4f\n",
      "Processing 0x1e43dacdcf863676a6bec8f7d6896d6252fac669\n",
      "Processing 0x22d7510588d90ed5a87e0f838391aaafa707c34b\n",
      "Processing 0x24b3460622d835c56d9a4fe352966b9bdc6c20af\n",
      "Processing 0x26750f1f4277221bdb5f6991473c6ece8c821f9d\n",
      "Processing 0x27f72a000d8e9f324583f3a3491ea66998275b28\n",
      "Processing 0x2844658bf341db96aa247259824f42025e3bcec2\n",
      "Processing 0x2a2fde3e1beb508fcf7c137a1d5965f13a17825e\n",
      "Processing 0x330513970efd9e8dd606275fb4c50378989b3204\n",
      "Processing 0x3361bea43c2f5f963f81ac70f64e6fba1f1d2a97\n",
      "Processing 0x3867d222ba91236ad4d12c31056626f9e798629c\n",
      "Processing 0x3a44be4581137019f83021eeee72b7dc57756069\n",
      "Processing 0x3e69ad05716bdc834db72c4d6d44439a7c8a902b\n",
      "Processing 0x427f2ac5fdf4245e027d767e7c3ac272a1f40a65\n",
      "Processing 0x4814be124d7fe3b240eb46061f7ddfab468fe122\n",
      "Processing 0x4839e666e2baf12a51bf004392b35972eeddeabf\n",
      "Processing 0x4c4d05fe859279c91b074429b5fc451182cec745\n",
      "Processing 0x4d997c89bc659a3e8452038a8101161e7e7e53a7\n",
      "Processing 0x4db0a72edb5ea6c55df929f76e7d5bb14e389860\n",
      "Processing 0x4e61251336c32e4fe6bfd5fab014846599321389\n",
      "Processing 0x4e6e724f4163b24ffc7ffe662b5f6815b18b4210\n",
      "Processing 0x507b6c0d950702f066a9a1bd5e85206f87b065ba\n",
      "Processing 0x54e19653be9d4143b08994906be0e27555e8834d\n",
      "Processing 0x56ba823641bfc317afc8459bf27feed6eb9ff59f\n",
      "Processing 0x56cc2bffcb3f86a30c492f9d1a671a1f744d1d2f\n",
      "Processing 0x578cea5f899b0dfbf05c7fbcfda1a644b2a47787\n",
      "Processing 0x58c2a9099a03750e9842d3e9a7780cdd6aa70b86\n",
      "Processing 0x58d68d4bcf9725e40353379cec92b90332561683\n",
      "Processing 0x5e324b4a564512ea7c93088dba2f8c1bf046a3eb\n",
      "Processing 0x612a3500559be7be7703de6dc397afb541a16f7f\n",
      "Processing 0x623af911f493747c216ad389c7805a37019c662d\n",
      "Processing 0x6a2752a534faacaaa153bffbb973dd84e0e5497b\n",
      "Processing 0x6d69ca3711e504658977367e13c300ab198379f1\n",
      "Processing 0x6e355417f7f56e7927d1cd971f0b5a1e6d538487\n",
      "Processing 0x70c1864282599a762c674dd9d567b37e13bce755\n",
      "Processing 0x70d8e4ab175dfe0eab4e9a7f33e0a2d19f44001e\n",
      "Processing 0x7399dbeebe2f88bc6ac4e3fd7ddb836a4bce322f\n",
      "Processing 0x767055590c73b7d2aaa6219da13807c493f91a20\n",
      "Processing 0x7851bdfb64bbecfb40c030d722a1f147dff5db6a\n",
      "Processing 0x7b4636320daa0bc055368a4f9b9d01bd8ac51877\n",
      "Processing 0x7b57dbe2f2e4912a29754ff3e412ed9507fd8957\n",
      "Processing 0x7be3dfb5b6fcbae542ea85e76cc19916a20f6c1e\n",
      "Processing 0x7de76a449cf60ea3e111ff18b28e516d89532152\n",
      "Processing 0x7e3eab408b9c76a13305ef34606f17c16f7b33cc\n",
      "Processing 0x7f5e6a28afc9fb0aaf4259d4ff69991b88ebea47\n",
      "Processing 0x83ea74c67d393c6894c34c464657bda2183a2f1a\n",
      "Processing 0x8441fecef5cc6f697be2c4fc4a36feacede8df67\n",
      "Processing 0x854a873b8f9bfac36a5eb9c648e285a095a7478d\n",
      "Processing 0x8587d9f794f06d976c2ec1cfd523983b856f5ca9\n",
      "Processing 0x880a0af12da55df1197f41697c1a1b61670ed410\n",
      "Processing 0x8aaece100580b749a20f8ce30338c4e0770b65ed\n",
      "Processing 0x8be38ea2b22b706aef313c2de81f7d179024dd30\n",
      "Processing 0x8d900f213db5205c529aaba5d10e71a0ed2646db\n",
      "Processing 0x91919344c1dad09772d19ad8ad4f1bcd29c51f27\n",
      "Processing 0x93f0891bf71d8abed78e0de0885bd26355bb8b1d\n",
      "Processing 0x96479b087cb8f236a5e2dcbfc50ce63b2f421da6\n",
      "Processing 0x96bb4447a02b95f1d1e85374cffd565eb22ed2f8\n",
      "Processing 0x9a363adc5d382c04d36b09158286328f75672098\n",
      "Processing 0x9ad1331c5b6c5a641acffb32719c66a80c6e1a17\n",
      "Processing 0x9ba0d85f71e145ccf15225e59631e5a883d5d74a\n",
      "Processing 0x9e6ec4e98793970a1307262ba68d37594e58cd78\n",
      "Processing 0xa7e94d933eb0c439dda357f61244a485246e97b8\n",
      "Processing 0xa7f3c74f0255796fd5d3ddcf88db769f7a6bf46a\n",
      "Processing 0xa98dc64bb42575efec7d1e4560c029231ce5da51\n",
      "Processing 0xb271ff7090b39028eb6e711c3f89a3453d5861ee\n",
      "Processing 0xb475576594ae44e1f75f534f993cbb7673e4c8b6\n",
      "Processing 0xb57297c5d02def954794e593db93d0a302e43e5c\n",
      "Processing 0xbd4a00764217c13a246f86db58d74541a0c3972a\n",
      "Processing 0xc179d55f7e00e789915760f7d260a1bf6285278b\n",
      "Processing 0xc22b8e78394ce52e0034609a67ae3c959daa84bc\n",
      "Processing 0xcbbd9fe837a14258286bbf2e182cbc4e4518c5a3\n",
      "Processing 0xcecf5163bb057c1aff4963d9b9a7d2f0bf591710\n",
      "Processing 0xcf0033bf27804640e5339e06443e208db5870dd2\n",
      "Processing 0xd0df53e296c1e3115fccc3d7cdf4ba495e593b56\n",
      "Processing 0xd1a3888fd8f490367c6104e10b4154427c02dd9c\n",
      "Processing 0xd334d18fa6bada9a10f361bae42a019ce88a3c33\n",
      "Processing 0xd9d3930ffa343f5a0eec7606d045d0843d3a02b4\n",
      "Processing 0xdde73df7bd4d704a89ad8421402701b3a460c6e9\n",
      "Processing 0xde92d70253604fd8c5998c8ee3ed282a41b33b7f\n",
      "Processing 0xded1f838ae6aa5fcd0f13481b37ee88e5bdccb3d\n",
      "Processing 0xebb8629e8a3ec86cf90cb7600264415640834483\n",
      "Processing 0xeded1c8c0a0c532195b8432153f3bfa81dba2a90\n",
      "Processing 0xf10fd8921019615a856c1e95c7cd3632de34edc4\n",
      "Processing 0xf340b9f2098f80b86fbc5ede586c319473aa11f3\n",
      "Processing 0xf54f36bca969800fd7d63a68029561309938c09b\n",
      "Processing 0xf60304b534f74977e159b2e159e135475c245526\n",
      "Processing 0xf67e8e5805835465f7eba988259db882ab726800\n",
      "Processing 0xf7aa5d0752cfcd41b0a5945867d619a80c405e52\n",
      "Processing 0xf80a8b9cfff0febf49914c269fb8aead4a22f847\n",
      "Processing 0xfe5a05c0f8b24fca15a7306f6a4ebb7dcf2186ac\n"
     ]
    }
   ],
   "source": [
    "# Loop through wallets\n",
    "features_list = []\n",
    "for wallet in wallets:\n",
    "    print(f\"Processing {wallet}\")\n",
    "    data = get_compound_activity(wallet)\n",
    "    features = extract_features(data)\n",
    "    features[\"wallet_id\"] = wallet\n",
    "    features_list.append(features)\n",
    "    time.sleep(0.3)  # Respect API rate limits\n",
    "\n",
    "# Create DataFrame\n",
    "df = pd.DataFrame(features_list)"
   ]
  },
  {
   "cell_type": "code",
   "execution_count": 24,
   "id": "7229829d",
   "metadata": {},
   "outputs": [
    {
     "name": "stdout",
     "output_type": "stream",
     "text": [
      "📋 Column Names:\n",
      "['tx_count', 'borrow_tx', 'repay_tx', 'liquidations', 'unique_tokens', 'net_activity', 'wallet_id']\n"
     ]
    }
   ],
   "source": [
    "print(\"📋 Column Names:\")\n",
    "print(df.columns.tolist())\n"
   ]
  },
  {
   "cell_type": "markdown",
   "id": "7a01c186",
   "metadata": {},
   "source": [
    "## Normalize Features and Compute Risk Scores"
   ]
  },
  {
   "cell_type": "code",
   "execution_count": 25,
   "id": "84a97705",
   "metadata": {},
   "outputs": [],
   "source": [
    "# Normalize and score\n",
    "def min_max_normalize(series):\n",
    "    if series.max() == series.min():\n",
    "        return pd.Series([0.5] * len(series))\n",
    "    return (series - series.min()) / (series.max() - series.min())"
   ]
  },
  {
   "cell_type": "code",
   "execution_count": 26,
   "id": "02e8dd33",
   "metadata": {},
   "outputs": [],
   "source": [
    "df[\"score\"] = (\n",
    "    min_max_normalize(df[\"tx_count\"]) * 0.2 +\n",
    "    min_max_normalize(df[\"borrow_tx\"]) * 0.25 +\n",
    "    min_max_normalize(df[\"repay_tx\"]) * 0.15 +\n",
    "    (1 - min_max_normalize(df[\"liquidations\"])) * 0.25 +\n",
    "    min_max_normalize(df[\"unique_tokens\"]) * 0.1 +\n",
    "    min_max_normalize(df[\"net_activity\"]) * 0.05\n",
    ") * 1000\n"
   ]
  },
  {
   "cell_type": "code",
   "execution_count": 27,
   "id": "095ae5b4",
   "metadata": {},
   "outputs": [],
   "source": [
    "df[\"score\"] = df[\"score\"].round().astype(int)"
   ]
  },
  {
   "cell_type": "markdown",
   "id": "66a3d2e8",
   "metadata": {},
   "source": [
    "## Save Results to CSV"
   ]
  },
  {
   "cell_type": "code",
   "execution_count": 29,
   "id": "9e35fb6c",
   "metadata": {},
   "outputs": [
    {
     "name": "stdout",
     "output_type": "stream",
     "text": [
      "Scoring complete. Output saved to 'wallet_risk_scores.csv'\n"
     ]
    }
   ],
   "source": [
    "# Output\n",
    "final_df = df[[\"wallet_id\", \"score\"]]\n",
    "final_df.to_csv(\"wallet_risk_scores.csv\", index=False)\n",
    "print(\"Scoring complete. Output saved to 'wallet_risk_scores.csv'\")"
   ]
  }
 ],
 "metadata": {
  "kernelspec": {
   "display_name": "Python 3",
   "language": "python",
   "name": "python3"
  },
  "language_info": {
   "codemirror_mode": {
    "name": "ipython",
    "version": 3
   },
   "file_extension": ".py",
   "mimetype": "text/x-python",
   "name": "python",
   "nbconvert_exporter": "python",
   "pygments_lexer": "ipython3",
   "version": "3.11.4"
  }
 },
 "nbformat": 4,
 "nbformat_minor": 5
}
